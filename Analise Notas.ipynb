{
 "cells": [
  {
   "cell_type": "markdown",
   "metadata": {},
   "source": [
    "# Analise de notas dos alunos da UFRN\n",
    "\n",
    "### Introdução\n",
    "\n",
    "Nesse notebook vamos fazer correlações a respeito das notas obtidas em disciplinas do IMD do semestre 2015.1 até 2017.2 e assim mostrar desempenho dos alunos nessas materias e com isso tentarremos descobrir o que pode estar levando os alunos a tirarem as notas que encontrarmos.\n",
    "\n",
    "### Recursos utilizados\n",
    "\n",
    "Para chegarmos aos resultados esperados vamos utilizar os arquivos \".csv\" dispolibilizados pela UFRN no portal de dados abertos. Apois isso vamos utilizar bibliotecas famosas da area de BigData como pandas e numpy para manipular os dados. No final vamos utilizar o a biblioteca Bokeh para expor os resultados finais."
   ]
  },
  {
   "cell_type": "code",
   "execution_count": 1,
   "metadata": {},
   "outputs": [
    {
     "name": "stdout",
     "output_type": "stream",
     "text": [
      "Requirement already satisfied: pandas in c:\\users\\nalbe\\anaconda3\\lib\\site-packages (0.20.3)\n",
      "Requirement already satisfied: python-dateutil>=2 in c:\\users\\nalbe\\anaconda3\\lib\\site-packages (from pandas) (2.6.1)\n",
      "Requirement already satisfied: pytz>=2011k in c:\\users\\nalbe\\anaconda3\\lib\\site-packages (from pandas) (2017.2)\n",
      "Requirement already satisfied: numpy>=1.7.0 in c:\\users\\nalbe\\anaconda3\\lib\\site-packages (from pandas) (1.13.3)\n",
      "Requirement already satisfied: six>=1.5 in c:\\users\\nalbe\\anaconda3\\lib\\site-packages (from python-dateutil>=2->pandas) (1.11.0)\n"
     ]
    },
    {
     "name": "stderr",
     "output_type": "stream",
     "text": [
      "notebook 5.4.0 requires terminado>=0.8.1, which is not installed.\n"
     ]
    },
    {
     "name": "stdout",
     "output_type": "stream",
     "text": [
      "Requirement already satisfied: numpy in c:\\users\\nalbe\\anaconda3\\lib\\site-packages (1.13.3)\n"
     ]
    },
    {
     "name": "stderr",
     "output_type": "stream",
     "text": [
      "notebook 5.4.0 requires terminado>=0.8.1, which is not installed.\n"
     ]
    },
    {
     "name": "stdout",
     "output_type": "stream",
     "text": [
      "Requirement already satisfied: bokeh in c:\\users\\nalbe\\anaconda3\\lib\\site-packages (0.12.10)\n",
      "Requirement already satisfied: six>=1.5.2 in c:\\users\\nalbe\\anaconda3\\lib\\site-packages (from bokeh) (1.11.0)\n",
      "Requirement already satisfied: PyYAML>=3.10 in c:\\users\\nalbe\\anaconda3\\lib\\site-packages (from bokeh) (3.12)\n",
      "Requirement already satisfied: python-dateutil>=2.1 in c:\\users\\nalbe\\anaconda3\\lib\\site-packages (from bokeh) (2.6.1)\n",
      "Requirement already satisfied: Jinja2>=2.7 in c:\\users\\nalbe\\anaconda3\\lib\\site-packages (from bokeh) (2.9.6)\n",
      "Requirement already satisfied: numpy>=1.7.1 in c:\\users\\nalbe\\anaconda3\\lib\\site-packages (from bokeh) (1.13.3)\n",
      "Requirement already satisfied: tornado>=4.3 in c:\\users\\nalbe\\anaconda3\\lib\\site-packages (from bokeh) (4.5.2)\n",
      "Requirement already satisfied: MarkupSafe>=0.23 in c:\\users\\nalbe\\anaconda3\\lib\\site-packages (from Jinja2>=2.7->bokeh) (1.0)\n"
     ]
    },
    {
     "name": "stderr",
     "output_type": "stream",
     "text": [
      "notebook 5.4.0 requires terminado>=0.8.1, which is not installed.\n"
     ]
    }
   ],
   "source": [
    "!pip install pandas\n",
    "!pip install numpy\n",
    "!pip install bokeh"
   ]
  },
  {
   "cell_type": "code",
   "execution_count": 45,
   "metadata": {},
   "outputs": [],
   "source": [
    "import pandas as pd\n",
    "import numpy as np\n",
    "import bokeh\n",
    "from urllib.request import urlopen"
   ]
  },
  {
   "cell_type": "code",
   "execution_count": 47,
   "metadata": {},
   "outputs": [],
   "source": [
    "url_componentes_curriculares = 'http://dados.ufrn.br/dataset/3fea67e8-6916-4ed0-aaa6-9a8ca06a9bdc/resource/9a3521d2-4bc5-4fda-93f0-f701c8a20727/download/componentes-curriculares-presenciais.csv'\n",
    "url_matriculas = 'http://dados.ufrn.br/dataset/c8650d55-3c5a-4787-a126-d28a4ef902a6/resource/baa6c8b4-2072-417f-b238-c028ccc8c14b/download/matriculas-de-2015.2.csv'"
   ]
  },
  {
   "cell_type": "code",
   "execution_count": 70,
   "metadata": {},
   "outputs": [],
   "source": [
    "# componentes_curriculares\n",
    "filedata = urlopen(url_componentes_curriculares)  \n",
    "datatowrite = filedata.read()\n",
    "\n",
    "with open('componentes_curriculares.csv', 'wb') as f:  \n",
    "    f.write(datatowrite)\n",
    "    \n",
    "# matriculas_csv\n",
    "filedata = urlopen(url_matriculas)  \n",
    "datatowrite = filedata.read()\n",
    "\n",
    "with open('matriculas.csv', 'wb') as f:  \n",
    "    f.write(datatowrite)"
   ]
  },
  {
   "cell_type": "code",
   "execution_count": 75,
   "metadata": {
    "scrolled": true
   },
   "outputs": [
    {
     "name": "stderr",
     "output_type": "stream",
     "text": [
      "b'Skipping line 8782: expected 30 fields, saw 33\\nSkipping line 12294: expected 30 fields, saw 33\\nSkipping line 12302: expected 30 fields, saw 31\\nSkipping line 12597: expected 30 fields, saw 37\\nSkipping line 12877: expected 30 fields, saw 34\\nSkipping line 15252: expected 30 fields, saw 31\\nSkipping line 15649: expected 30 fields, saw 38\\nSkipping line 16074: expected 30 fields, saw 34\\nSkipping line 19589: expected 30 fields, saw 31\\nSkipping line 21501: expected 30 fields, saw 31\\nSkipping line 26077: expected 30 fields, saw 31\\nSkipping line 26100: expected 30 fields, saw 34\\nSkipping line 28024: expected 30 fields, saw 37\\nSkipping line 29326: expected 30 fields, saw 31\\nSkipping line 29327: expected 30 fields, saw 31\\nSkipping line 31530: expected 30 fields, saw 32\\nSkipping line 31806: expected 30 fields, saw 34\\n'\n",
      "b'Skipping line 36541: expected 30 fields, saw 31\\nSkipping line 36551: expected 30 fields, saw 34\\nSkipping line 36940: expected 30 fields, saw 34\\nSkipping line 36965: expected 30 fields, saw 31\\nSkipping line 36982: expected 30 fields, saw 42\\n'\n",
      "C:\\Users\\nalbe\\Anaconda3\\lib\\site-packages\\IPython\\core\\interactiveshell.py:2698: DtypeWarning: Columns (9,10,14,26) have mixed types. Specify dtype option on import or set low_memory=False.\n",
      "  interactivity=interactivity, compiler=compiler, result=result)\n"
     ]
    }
   ],
   "source": [
    "componentes_curriculares = pd.read_csv('componentes_curriculares.csv', sep=';', error_bad_lines=False)\n",
    "matriculas = pd.read_csv('matriculas.csv', sep=';')"
   ]
  },
  {
   "cell_type": "code",
   "execution_count": 76,
   "metadata": {},
   "outputs": [
    {
     "name": "stdout",
     "output_type": "stream",
     "text": [
      "  id_componente tipo_componente  codigo nivel  \\\n",
      "0         18643      DISCIPLINA  MUT508     T   \n",
      "1         18644      DISCIPLINA  MUT516     T   \n",
      "2         18645      DISCIPLINA  MUT520     T   \n",
      "3         18646      DISCIPLINA  MUT165     T   \n",
      "4         18647      DISCIPLINA  MUT167     T   \n",
      "\n",
      "                               nome unidade_responsavel ch_teorico ch_pratico  \\\n",
      "0  COMPOSIÇÃO EM MÚSICA POPULAR III    ESCOLA DE MÚSICA         60          0   \n",
      "1                      CO-REPETIÇÃO    ESCOLA DE MÚSICA         30          0   \n",
      "2            CONTRABAIXO ACÚSTICO I    ESCOLA DE MÚSICA         30          0   \n",
      "3              PIANO COMPLEMENTAR I    ESCOLA DE MÚSICA         15          0   \n",
      "4            PIANO COMPLEMENTAR III    ESCOLA DE MÚSICA         15          0   \n",
      "\n",
      "  ch_estagio ch_total     ...     bibliografia objetivos conteudo  \\\n",
      "0          0       60     ...              NaN       NaN      NaN   \n",
      "1          0       30     ...              NaN       NaN      NaN   \n",
      "2          0       30     ...              NaN       NaN      NaN   \n",
      "3          0       15     ...              NaN       NaN      NaN   \n",
      "4          0       15     ...              NaN       NaN      NaN   \n",
      "\n",
      "  competencias_habilidades referencias ano_programa periodo_programa  \\\n",
      "0                      NaN         NaN          NaN              NaN   \n",
      "1                      NaN         NaN          NaN              NaN   \n",
      "2                      NaN         NaN          NaN              NaN   \n",
      "3                      NaN         NaN          NaN              NaN   \n",
      "4                      NaN         NaN          NaN              NaN   \n",
      "\n",
      "   modalidade curso_componente Unnamed: 29  \n",
      "0  Presencial              NaN         NaN  \n",
      "1  Presencial              NaN         NaN  \n",
      "2  Presencial              NaN         NaN  \n",
      "3  Presencial              NaN         NaN  \n",
      "4  Presencial              NaN         NaN  \n",
      "\n",
      "[5 rows x 30 columns]\n"
     ]
    }
   ],
   "source": [
    "print(componentes_curriculares.head())"
   ]
  },
  {
   "cell_type": "code",
   "execution_count": null,
   "metadata": {},
   "outputs": [],
   "source": []
  }
 ],
 "metadata": {
  "kernelspec": {
   "display_name": "Python 3",
   "language": "python",
   "name": "python3"
  },
  "language_info": {
   "codemirror_mode": {
    "name": "ipython",
    "version": 3
   },
   "file_extension": ".py",
   "mimetype": "text/x-python",
   "name": "python",
   "nbconvert_exporter": "python",
   "pygments_lexer": "ipython3",
   "version": "3.6.3"
  }
 },
 "nbformat": 4,
 "nbformat_minor": 2
}
