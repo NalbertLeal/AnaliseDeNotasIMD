{
 "cells": [
  {
   "cell_type": "markdown",
   "metadata": {},
   "source": [
    "# Analise de notas dos alunos da UFRN\n",
    "\n",
    "## 1. Introdução\n",
    "\n",
    "O objetivo desse *notebook* é realizar uma série de correlações sobre as turmas ofertadas pelo Instituto Metrópole Digital (IMD), departamento da Universidade Federal do Rio Grande do Norte (UFRN), para avaliar se o horário dessas turmas tem algum efeito no sucesso ou insucesso do aluno, se o professor também tem algum peso nessas chances e etc.\n",
    "\n",
    "Para isso foram escolhidas algumas das disciplinas com maior porcentagem de insucesso são elas: Fundamentos Matemáticos da Computação I (FMCI), Fundamentos Matemáticos da Computação II (FMCII), Cálculo I além da disciplina deste projeto Probabilidade. Todos os dados utilizados para análise foram retirados do banco de dados público da UFRN no *website* http://dados.ufrn.br.  \n",
    "\n",
    "## 2 Recursos utilizados\n",
    "\n",
    "Na análise dos dados serão utilizados as seguintes bibliotecas *python* o *Pandas* para a criação e manipulção dos *dataframes*, *Numpy* para a análise matemática e o *Bokeh* para a visualização dos dados."
   ]
  },
  {
   "cell_type": "markdown",
   "metadata": {},
   "source": [
    "## 3 Preparação do Ambiente e Criação dos Dataframes\n",
    "\n",
    "Antes de começarmos é necessário preparar o *notebook*, instalado as bibliotecas já citadas rodando o seguinte comando, e realizar a criação dos dados e subsequentemente manipulá-los para facilitar a sua análise. Todo o processo de manipulção está descrito em forma de commentários nos códigos."
   ]
  },
  {
   "cell_type": "code",
   "execution_count": 1,
   "metadata": {},
   "outputs": [
    {
     "name": "stdout",
     "output_type": "stream",
     "text": [
      "Requirement already satisfied: pandas in c:\\users\\nalbe\\anaconda3\\lib\\site-packages (0.20.3)\n",
      "Requirement already satisfied: python-dateutil>=2 in c:\\users\\nalbe\\anaconda3\\lib\\site-packages (from pandas) (2.6.1)\n",
      "Requirement already satisfied: pytz>=2011k in c:\\users\\nalbe\\anaconda3\\lib\\site-packages (from pandas) (2017.2)\n",
      "Requirement already satisfied: numpy>=1.7.0 in c:\\users\\nalbe\\anaconda3\\lib\\site-packages (from pandas) (1.13.3)\n",
      "Requirement already satisfied: six>=1.5 in c:\\users\\nalbe\\anaconda3\\lib\\site-packages (from python-dateutil>=2->pandas) (1.11.0)\n"
     ]
    },
    {
     "name": "stderr",
     "output_type": "stream",
     "text": [
      "notebook 5.4.0 requires terminado>=0.8.1, which is not installed.\n"
     ]
    },
    {
     "name": "stdout",
     "output_type": "stream",
     "text": [
      "Requirement already satisfied: numpy in c:\\users\\nalbe\\anaconda3\\lib\\site-packages (1.13.3)\n"
     ]
    },
    {
     "name": "stderr",
     "output_type": "stream",
     "text": [
      "notebook 5.4.0 requires terminado>=0.8.1, which is not installed.\n"
     ]
    },
    {
     "name": "stdout",
     "output_type": "stream",
     "text": [
      "Requirement already satisfied: bokeh in c:\\users\\nalbe\\anaconda3\\lib\\site-packages (0.12.10)\n",
      "Requirement already satisfied: six>=1.5.2 in c:\\users\\nalbe\\anaconda3\\lib\\site-packages (from bokeh) (1.11.0)\n",
      "Requirement already satisfied: PyYAML>=3.10 in c:\\users\\nalbe\\anaconda3\\lib\\site-packages (from bokeh) (3.12)\n",
      "Requirement already satisfied: python-dateutil>=2.1 in c:\\users\\nalbe\\anaconda3\\lib\\site-packages (from bokeh) (2.6.1)\n",
      "Requirement already satisfied: Jinja2>=2.7 in c:\\users\\nalbe\\anaconda3\\lib\\site-packages (from bokeh) (2.9.6)\n",
      "Requirement already satisfied: numpy>=1.7.1 in c:\\users\\nalbe\\anaconda3\\lib\\site-packages (from bokeh) (1.13.3)\n",
      "Requirement already satisfied: tornado>=4.3 in c:\\users\\nalbe\\anaconda3\\lib\\site-packages (from bokeh) (4.5.2)\n",
      "Requirement already satisfied: MarkupSafe>=0.23 in c:\\users\\nalbe\\anaconda3\\lib\\site-packages (from Jinja2>=2.7->bokeh) (1.0)\n"
     ]
    },
    {
     "name": "stderr",
     "output_type": "stream",
     "text": [
      "notebook 5.4.0 requires terminado>=0.8.1, which is not installed.\n"
     ]
    }
   ],
   "source": [
    "!pip install pandas\n",
    "!pip install numpy\n",
    "!pip install bokeh"
   ]
  },
  {
   "cell_type": "code",
   "execution_count": 1,
   "metadata": {},
   "outputs": [],
   "source": [
    "# Inclusão das bibliotecas utilizadas\n",
    "import pandas as pd\n",
    "import numpy as np\n",
    "import bokeh\n",
    "from urllib.request import urlopen"
   ]
  },
  {
   "cell_type": "code",
   "execution_count": 38,
   "metadata": {},
   "outputs": [],
   "source": [
    "# Setup das base de dados a serem utilizadas.\n",
    "\n",
    "url_componentes_curriculares = 'http://dados.ufrn.br/dataset/3fea67e8-6916-4ed0-aaa6-9a8ca06a9bdc/resource/9a3521d2-4bc5-4fda-93f0-f701c8a20727/download/componentes-curriculares-presenciais.csv'\n",
    "\n",
    "url_cursos_ufrn = 'http://dados.ufrn.br/dataset/08b0dc59-faa9-4281-bd1e-2a39f532489e/resource/949be3d1-e85b-4d0f-9f60-1d9a7484bb06/download/cursos-ufrn'\n",
    "\n",
    "url_matriculas_2015_1 = 'http://dados.ufrn.br/dataset/c8650d55-3c5a-4787-a126-d28a4ef902a6/resource/9e7ba1c2-f92d-4b9c-9e91-3b026ecdf913/download/matriculas-de-2015.1.csv'\n",
    "url_matriculas_2015_2 = 'http://dados.ufrn.br/dataset/c8650d55-3c5a-4787-a126-d28a4ef902a6/resource/baa6c8b4-2072-417f-b238-c028ccc8c14b/download/matriculas-de-2015.2.csv'\n",
    "url_matriculas_2016_1 = 'http://dados.ufrn.br/dataset/c8650d55-3c5a-4787-a126-d28a4ef902a6/resource/4778d3ce-8898-46a8-a623-ee6a480a2980/download/matriculas-de-2016.1.csv'\n",
    "url_matriculas_2016_2 = 'http://dados.ufrn.br/dataset/c8650d55-3c5a-4787-a126-d28a4ef902a6/resource/f6179838-b619-4d7d-af9c-18c438b80dd4/download/matriculas-de-2016.2.csv'\n",
    "url_matriculas_2017_1 = 'http://dados.ufrn.br/dataset/c8650d55-3c5a-4787-a126-d28a4ef902a6/resource/79071c21-e32c-438f-b930-d1b6ccc02ec2/download/matricula-componente-20171'\n",
    "url_matriculas_2017_2 = 'http://dados.ufrn.br/dataset/c8650d55-3c5a-4787-a126-d28a4ef902a6/resource/55dfe713-ff7c-4fa8-8d1d-d4294a025bff/download/matricula-componente-20172'\n",
    "\n",
    "url_turmas_2015_1 = 'http://dados.ufrn.br/dataset/1938623d-fb07-41a4-a55a-1691f7c3b8b5/resource/4d5aee5a-00b0-4ed6-a4be-59fa77a56797/download/turmas-2015.1.csv'\n",
    "url_turmas_2015_2 = 'http://dados.ufrn.br/dataset/1938623d-fb07-41a4-a55a-1691f7c3b8b5/resource/7c59621c-4a8b-49d4-b319-83cfea9bdf28/download/turmas-2015.2.csv'\n",
    "url_turmas_2016_1 = 'http://dados.ufrn.br/dataset/1938623d-fb07-41a4-a55a-1691f7c3b8b5/resource/322d9977-ba15-47f1-8216-75a1ca78e197/download/turmas-2016.1.csv'\n",
    "url_turmas_2016_2 = 'http://dados.ufrn.br/dataset/1938623d-fb07-41a4-a55a-1691f7c3b8b5/resource/5e8e3228-7f22-40a2-9efd-561c44844567/download/turmas-2016.2.csv'\n",
    "url_turmas_2017_1 = 'http://dados.ufrn.br/dataset/1938623d-fb07-41a4-a55a-1691f7c3b8b5/resource/5e77d066-d506-45eb-a21e-76aa79616fef/download/turmas-2017.1.csv'\n",
    "url_turmas_2017_2 = 'http://dados.ufrn.br/dataset/1938623d-fb07-41a4-a55a-1691f7c3b8b5/resource/01fe7343-fdf0-4a67-b915-2386b7c2fecb/download/turmas-2017.2.csv'\n",
    "\n",
    "docentes_url = 'http://dados.ufrn.br/dataset/8bf1a468-48ff-4f4d-95ee-b17b7a3a5592/resource/ff0a457e-76fa-4aca-ad99-48aebd7db070/download/docentes.csv'"
   ]
  },
  {
   "cell_type": "code",
   "execution_count": 39,
   "metadata": {
    "scrolled": true
   },
   "outputs": [],
   "source": [
    "# Leitura dos csvs docentes, componentes, matriculas e cursos.\n",
    "\n",
    "docentes = pd.read_csv(docentes_url, sep=';')\n",
    "\n",
    "cursos_ufrn = pd.read_csv(url_cursos_ufrn, sep=';', error_bad_lines=False)\n",
    "\n",
    "componente = pd.read_csv(url_componentes_curriculares, sep=';'\n",
    "                         , usecols=[\"id_componente\",\"codigo\",\"nivel\",\"nome\",\"unidade_responsavel\"])\n",
    "\n",
    "matriculas_2015_1 = pd.read_csv(url_matriculas_2015_1, sep=';')\n",
    "matriculas_2015_2 = pd.read_csv(url_matriculas_2015_2, sep=';')\n",
    "matriculas_2016_1 = pd.read_csv(url_matriculas_2016_1, sep=';')\n",
    "matriculas_2016_2 = pd.read_csv(url_matriculas_2016_2, sep=';')\n",
    "matriculas_2017_1 = pd.read_csv(url_matriculas_2017_1, sep=';')\n",
    "matriculas_2017_2 = pd.read_csv(url_matriculas_2017_2, sep=';')"
   ]
  },
  {
   "cell_type": "code",
   "execution_count": 49,
   "metadata": {},
   "outputs": [],
   "source": [
    "# Leitura dos csvs das turmas.\n",
    "\n",
    "turmas_2015_1 = pd.read_csv(url_turmas_2015_1, sep=';')\n",
    "turmas_2015_2 = pd.read_csv(url_turmas_2015_2, sep=';')\n",
    "turmas_2016_1 = pd.read_csv(url_turmas_2016_1, sep=';') \n",
    "turmas_2016_2 = pd.read_csv(url_turmas_2016_2, sep=';')\n",
    "turmas_2017_1 = pd.read_csv(url_turmas_2017_1, sep=';')\n",
    "turmas_2017_2 = pd.read_csv(url_turmas_2017_2, sep=';')\n",
    "\n",
    "turmas_2015_1.rename(columns={'id_componente_curricular': 'id_componente'}, inplace=True)\n",
    "turmas_2015_2.rename(columns={'id_componente_curricular': 'id_componente'}, inplace=True)\n",
    "turmas_2016_1.rename(columns={'id_componente_curricular': 'id_componente'}, inplace=True)\n",
    "turmas_2016_2.rename(columns={'id_componente_curricular': 'id_componente'}, inplace=True)\n",
    "turmas_2017_1.rename(columns={'id_componente_curricular': 'id_componente'}, inplace=True)\n",
    "turmas_2017_2.rename(columns={'id_componente_curricular': 'id_componente'}, inplace=True)\n",
    "\n",
    "turmas_2015_1.id_componente = turmas_2015_1.id_componente.astype(str)\n",
    "turmas_2015_2.id_componente = turmas_2015_2.id_componente.astype(str)\n",
    "turmas_2016_1.id_componente = turmas_2016_1.id_componente.astype(str)\n",
    "turmas_2016_2.id_componente = turmas_2016_2.id_componente.astype(str)\n",
    "turmas_2017_1.id_componente = turmas_2017_1.id_componente.astype(str)\n",
    "turmas_2017_2.id_componente = turmas_2017_2.id_componente.astype(str)\n",
    "\n",
    "# Adicionando \n",
    "\n",
    "turmas_2015_1['ano_semestre'] = '2015_1'\n",
    "turmas_2015_2['ano_semestre'] = '2015_2'\n",
    "turmas_2016_1['ano_semestre'] = '2016_1'\n",
    "turmas_2016_2['ano_semestre'] = '2016_2'\n",
    "turmas_2017_1['ano_semestre'] = '2017_1'\n",
    "turmas_2017_2['ano_semestre'] = '2017_2'"
   ]
  },
  {
   "cell_type": "code",
   "execution_count": 43,
   "metadata": {},
   "outputs": [],
   "source": [
    "# Retirando a coluna Unnamed: 10 de alguns csvs\n",
    "\n",
    "matriculas_2015_1.drop('Unnamed: 10', 1, inplace=True) \n",
    "matriculas_2015_2.drop('Unnamed: 10', 1, inplace=True) \n",
    "matriculas_2016_1.drop('Unnamed: 10', 1, inplace=True) \n",
    "matriculas_2016_2.drop('Unnamed: 10', 1, inplace=True) \n",
    "\n",
    "# Criando coluna ano_semestre\n",
    "\n",
    "matriculas_2015_1['ano_semestre'] = '2015_1'\n",
    "matriculas_2015_2['ano_semestre'] = '2015_2'\n",
    "matriculas_2016_1['ano_semestre'] = '2016_1'\n",
    "matriculas_2016_2['ano_semestre'] = '2016_2'\n",
    "matriculas_2017_1['ano_semestre'] = '2017_1'\n",
    "matriculas_2017_2['ano_semestre'] = '2017_2'"
   ]
  },
  {
   "cell_type": "code",
   "execution_count": 50,
   "metadata": {},
   "outputs": [],
   "source": [
    "# Combinando dataframes das matrículas.\n",
    "\n",
    "frames = [matriculas_2015_1, matriculas_2015_2, matriculas_2016_1, matriculas_2016_2, matriculas_2017_1, matriculas_2017_2]\n",
    "matriculas = pd.concat(frames)\n",
    "\n",
    "# Combinando os dataframes das turmas.\n",
    "\n",
    "frames  = [turmas_2015_1, turmas_2015_2, turmas_2016_1, turmas_2016_2, turmas_2017_1, turmas_2017_2]\n",
    "turmas = pd.concat(frames)"
   ]
  },
  {
   "cell_type": "code",
   "execution_count": 52,
   "metadata": {},
   "outputs": [],
   "source": [
    "# Limpando dados inválidos/desconhecidos da descrição.\n",
    "\n",
    "matriculas = matriculas[matriculas.descricao != 'DESISTENCIA']\n",
    "matriculas = matriculas[matriculas.descricao != 'CANCELADO']\n",
    "matriculas = matriculas[matriculas.descricao != 'INDEFERIDO']\n",
    "matriculas = matriculas[matriculas.descricao != 'EXCLUIDA']\n",
    "matriculas = matriculas[matriculas.descricao != 'DISPENSADO']\n",
    "matriculas = matriculas[matriculas.descricao != 'CUMPRIU']\n",
    "matriculas = matriculas[matriculas.descricao != 'EM ESPERA']\n",
    "matriculas = matriculas[matriculas.descricao != 'AGUARDANDO DEFERIMENTO']\n",
    "matriculas = matriculas[matriculas.descricao != 'TRANSFERIDO']\n",
    "matriculas = matriculas[matriculas.descricao != 'INCORPORADO']"
   ]
  },
  {
   "cell_type": "code",
   "execution_count": 53,
   "metadata": {},
   "outputs": [],
   "source": [
    "# Retirando valores NaN do dataframe.\n",
    "\n",
    "componente.dropna(inplace=True)\n",
    "componente = componente[~componente.id_componente.duplicated()]\n"
   ]
  },
  {
   "cell_type": "code",
   "execution_count": 54,
   "metadata": {},
   "outputs": [],
   "source": [
    "# Gerando dataframe com as turmas e componentes.\n",
    "\n",
    "colunas = [\"id_turma\",\"id_docente_interno\",\"codigo\",\"nivel_ensino\",\"nome\",\"unidade_responsavel\",\n",
    "          \"situacao_turma\",\"capacidade_aluno\",\"descricao_horario\", \"ano_semestre\"]\n",
    "merge_turmas_componentes = pd.merge(turmas, componente, on='id_componente')[colunas]\n",
    "\n",
    "merge_turmas_componentes.dropna(inplace=True)\n"
   ]
  },
  {
   "cell_type": "code",
   "execution_count": 55,
   "metadata": {},
   "outputs": [],
   "source": [
    "# Filtrando para os componentes do IMD\n",
    "\n",
    "componentes_imd = merge_turmas_componentes[merge_turmas_componentes.codigo.str.contains('IMD')]\n",
    "\n",
    "componentes_imd = componentes_imd[componentes_imd.situacao_turma == 'CONSOLIDADA']\n",
    "\n",
    "# Alterando o nome da coluna id_docente_interno para id_servidor (mesma do dataframe docentes).\n",
    "\n",
    "componentes_imd.rename(columns={'id_docente_interno': 'id_servidor'}, inplace=True)\n",
    "componentes_imd.capacidade_aluno = componentes_imd.capacidade_aluno.astype(np.int64)\n",
    "componentes_imd.id_servidor = componentes_imd.id_servidor.astype(np.int64)\n"
   ]
  },
  {
   "cell_type": "code",
   "execution_count": 56,
   "metadata": {},
   "outputs": [],
   "source": [
    "# Merge dos dataframes componentes_imd e docentes, para amarrar os nomes dos docentes as turmas.\n",
    "\n",
    "colunas = [\"id_turma\", \"codigo\", \"nivel_ensino\", \"nome_y\", \"codigo\", \"nivel_ensino\",\n",
    "          \"nome_x\",\"capacidade_aluno\", \"descricao_horario\", \"ano_semestre\"]\n",
    "\n",
    "turmas_imd = pd.merge(componentes_imd, docentes, on=\"id_servidor\")[colunas]\n",
    "turmas_imd.id_turma = turmas_imd.id_turma.astype(np.int64)\n",
    "turmas_imd.drop('ano_semestre', axis=1, inplace=True)\n",
    "\n"
   ]
  },
  {
   "cell_type": "code",
   "execution_count": 59,
   "metadata": {},
   "outputs": [],
   "source": [
    "# Merge dos dataframes matriculas e turmas_imd.\n",
    "\n",
    "matriculas.id_turma = matriculas.id_turma.astype(np.int64)\n",
    "colunas = [\"id_turma\", \"discente\", \"codigo\", \"nome_y\", \"nome_x\", \"descricao_horario\", \"unidade\", \"nota\", \"reposicao\"\n",
    "           , \"media_final\", \"numero_total_faltas\", \"descricao\", \"ano_semestre\"]\n",
    "\n",
    "merge_matriculas_turmas_imd = pd.merge(matriculas, turmas_imd, on=\"id_turma\")[colunas]"
   ]
  },
  {
   "cell_type": "code",
   "execution_count": 60,
   "metadata": {},
   "outputs": [
    {
     "data": {
      "text/html": [
       "<div>\n",
       "<style scoped>\n",
       "    .dataframe tbody tr th:only-of-type {\n",
       "        vertical-align: middle;\n",
       "    }\n",
       "\n",
       "    .dataframe tbody tr th {\n",
       "        vertical-align: top;\n",
       "    }\n",
       "\n",
       "    .dataframe thead th {\n",
       "        text-align: right;\n",
       "    }\n",
       "</style>\n",
       "<table border=\"1\" class=\"dataframe\">\n",
       "  <thead>\n",
       "    <tr style=\"text-align: right;\">\n",
       "      <th></th>\n",
       "      <th>id_turma</th>\n",
       "      <th>discente</th>\n",
       "      <th>codigo</th>\n",
       "      <th>codigo</th>\n",
       "      <th>nome_y</th>\n",
       "      <th>nome_x</th>\n",
       "      <th>descricao_horario</th>\n",
       "      <th>unidade</th>\n",
       "      <th>nota</th>\n",
       "      <th>reposicao</th>\n",
       "      <th>media_final</th>\n",
       "      <th>numero_total_faltas</th>\n",
       "      <th>descricao</th>\n",
       "      <th>ano_semestre</th>\n",
       "    </tr>\n",
       "  </thead>\n",
       "  <tbody>\n",
       "    <tr>\n",
       "      <th>0</th>\n",
       "      <td>1239422</td>\n",
       "      <td>bcd9e4d861acc00fac216bbe953c63b8</td>\n",
       "      <td>IMD0040</td>\n",
       "      <td>IMD0040</td>\n",
       "      <td>CARLOS EDUARDO DA SILVA</td>\n",
       "      <td>LINGUAGEM DE PROGRAMAÇÃO II</td>\n",
       "      <td>24N12 (02/02/2015 - 20/06/2015)</td>\n",
       "      <td>2.0</td>\n",
       "      <td>7.6</td>\n",
       "      <td>f</td>\n",
       "      <td>7.9</td>\n",
       "      <td>2.0</td>\n",
       "      <td>APROVADO</td>\n",
       "      <td>2015_1</td>\n",
       "    </tr>\n",
       "    <tr>\n",
       "      <th>1</th>\n",
       "      <td>1239422</td>\n",
       "      <td>bcd9e4d861acc00fac216bbe953c63b8</td>\n",
       "      <td>IMD0040</td>\n",
       "      <td>IMD0040</td>\n",
       "      <td>CARLOS EDUARDO DA SILVA</td>\n",
       "      <td>LINGUAGEM DE PROGRAMAÇÃO II</td>\n",
       "      <td>24N12 (02/02/2015 - 20/06/2015)</td>\n",
       "      <td>1.0</td>\n",
       "      <td>8.4</td>\n",
       "      <td>f</td>\n",
       "      <td>7.9</td>\n",
       "      <td>2.0</td>\n",
       "      <td>APROVADO</td>\n",
       "      <td>2015_1</td>\n",
       "    </tr>\n",
       "    <tr>\n",
       "      <th>2</th>\n",
       "      <td>1239422</td>\n",
       "      <td>bcd9e4d861acc00fac216bbe953c63b8</td>\n",
       "      <td>IMD0040</td>\n",
       "      <td>IMD0040</td>\n",
       "      <td>CARLOS EDUARDO DA SILVA</td>\n",
       "      <td>LINGUAGEM DE PROGRAMAÇÃO II</td>\n",
       "      <td>24N12 (02/02/2015 - 20/06/2015)</td>\n",
       "      <td>3.0</td>\n",
       "      <td>7.6</td>\n",
       "      <td>f</td>\n",
       "      <td>7.9</td>\n",
       "      <td>2.0</td>\n",
       "      <td>APROVADO</td>\n",
       "      <td>2015_1</td>\n",
       "    </tr>\n",
       "    <tr>\n",
       "      <th>3</th>\n",
       "      <td>1239422</td>\n",
       "      <td>1fdfae54f2e3d6e8a00d8ceab48c74f6</td>\n",
       "      <td>IMD0040</td>\n",
       "      <td>IMD0040</td>\n",
       "      <td>CARLOS EDUARDO DA SILVA</td>\n",
       "      <td>LINGUAGEM DE PROGRAMAÇÃO II</td>\n",
       "      <td>24N12 (02/02/2015 - 20/06/2015)</td>\n",
       "      <td>1.0</td>\n",
       "      <td>7.3</td>\n",
       "      <td>f</td>\n",
       "      <td>6.0</td>\n",
       "      <td>18.0</td>\n",
       "      <td>APROVADO POR NOTA</td>\n",
       "      <td>2015_1</td>\n",
       "    </tr>\n",
       "    <tr>\n",
       "      <th>4</th>\n",
       "      <td>1239422</td>\n",
       "      <td>1fdfae54f2e3d6e8a00d8ceab48c74f6</td>\n",
       "      <td>IMD0040</td>\n",
       "      <td>IMD0040</td>\n",
       "      <td>CARLOS EDUARDO DA SILVA</td>\n",
       "      <td>LINGUAGEM DE PROGRAMAÇÃO II</td>\n",
       "      <td>24N12 (02/02/2015 - 20/06/2015)</td>\n",
       "      <td>2.0</td>\n",
       "      <td>5.4</td>\n",
       "      <td>f</td>\n",
       "      <td>6.0</td>\n",
       "      <td>18.0</td>\n",
       "      <td>APROVADO POR NOTA</td>\n",
       "      <td>2015_1</td>\n",
       "    </tr>\n",
       "  </tbody>\n",
       "</table>\n",
       "</div>"
      ],
      "text/plain": [
       "   id_turma                          discente   codigo   codigo  \\\n",
       "0   1239422  bcd9e4d861acc00fac216bbe953c63b8  IMD0040  IMD0040   \n",
       "1   1239422  bcd9e4d861acc00fac216bbe953c63b8  IMD0040  IMD0040   \n",
       "2   1239422  bcd9e4d861acc00fac216bbe953c63b8  IMD0040  IMD0040   \n",
       "3   1239422  1fdfae54f2e3d6e8a00d8ceab48c74f6  IMD0040  IMD0040   \n",
       "4   1239422  1fdfae54f2e3d6e8a00d8ceab48c74f6  IMD0040  IMD0040   \n",
       "\n",
       "                    nome_y                       nome_x  \\\n",
       "0  CARLOS EDUARDO DA SILVA  LINGUAGEM DE PROGRAMAÇÃO II   \n",
       "1  CARLOS EDUARDO DA SILVA  LINGUAGEM DE PROGRAMAÇÃO II   \n",
       "2  CARLOS EDUARDO DA SILVA  LINGUAGEM DE PROGRAMAÇÃO II   \n",
       "3  CARLOS EDUARDO DA SILVA  LINGUAGEM DE PROGRAMAÇÃO II   \n",
       "4  CARLOS EDUARDO DA SILVA  LINGUAGEM DE PROGRAMAÇÃO II   \n",
       "\n",
       "                 descricao_horario  unidade  nota reposicao  media_final  \\\n",
       "0  24N12 (02/02/2015 - 20/06/2015)      2.0   7.6         f          7.9   \n",
       "1  24N12 (02/02/2015 - 20/06/2015)      1.0   8.4         f          7.9   \n",
       "2  24N12 (02/02/2015 - 20/06/2015)      3.0   7.6         f          7.9   \n",
       "3  24N12 (02/02/2015 - 20/06/2015)      1.0   7.3         f          6.0   \n",
       "4  24N12 (02/02/2015 - 20/06/2015)      2.0   5.4         f          6.0   \n",
       "\n",
       "   numero_total_faltas          descricao ano_semestre  \n",
       "0                  2.0           APROVADO       2015_1  \n",
       "1                  2.0           APROVADO       2015_1  \n",
       "2                  2.0           APROVADO       2015_1  \n",
       "3                 18.0  APROVADO POR NOTA       2015_1  \n",
       "4                 18.0  APROVADO POR NOTA       2015_1  "
      ]
     },
     "execution_count": 60,
     "metadata": {},
     "output_type": "execute_result"
    }
   ],
   "source": [
    "merge_matriculas_turmas_imd.head()"
   ]
  },
  {
   "cell_type": "code",
   "execution_count": 26,
   "metadata": {},
   "outputs": [],
   "source": [
    "merge_matriculas_turmas_imd.to_csv('matriculas_finais.csv', sep=';')"
   ]
  },
  {
   "cell_type": "code",
   "execution_count": 74,
   "metadata": {},
   "outputs": [],
   "source": [
    "# Criação dos dataframes contendo as notas das disciplinas especificadas.\n",
    "\n",
    "fmcI = merge_matriculas_turmas_imd.loc[merge_matriculas_turmas_imd['nome_x'] == 'FUNDAMENTOS MATEMÁTICOS DA COMPUTAÇÃO I']\n",
    "fmcII = merge_matriculas_turmas_imd.loc[merge_matriculas_turmas_imd['nome_x'] == 'FUNDAMENTOS MATEMÁTICOS DA COMPUTAÇÃO II']\n",
    "calc = merge_matriculas_turmas_imd.loc[merge_matriculas_turmas_imd['nome_x'] == 'CÁLCULO DIFERENCIAL E INTEGRAL I']\n",
    "prob = merge_matriculas_turmas_imd.loc[merge_matriculas_turmas_imd['nome_x'] == 'PROBABILIDADE']"
   ]
  },
  {
   "cell_type": "markdown",
   "metadata": {},
   "source": [
    "## 4 Visualização e Análise dos Dados\n",
    "\n",
    "### 4.1 "
   ]
  },
  {
   "cell_type": "code",
   "execution_count": null,
   "metadata": {},
   "outputs": [],
   "source": []
  }
 ],
 "metadata": {
  "kernelspec": {
   "display_name": "Python 3",
   "language": "python",
   "name": "python3"
  },
  "language_info": {
   "codemirror_mode": {
    "name": "ipython",
    "version": 3
   },
   "file_extension": ".py",
   "mimetype": "text/x-python",
   "name": "python",
   "nbconvert_exporter": "python",
   "pygments_lexer": "ipython3",
   "version": "3.6.4"
  }
 },
 "nbformat": 4,
 "nbformat_minor": 2
}
