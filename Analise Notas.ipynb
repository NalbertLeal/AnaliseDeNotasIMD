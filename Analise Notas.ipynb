{
 "cells": [
  {
   "cell_type": "markdown",
   "metadata": {},
   "source": [
    "# Analise de notas dos alunos da UFRN\n",
    "\n",
    "## 1. Introdução\n",
    "\n",
    "O objetivo desse *notebook* é realizar uma série de correlações sobre as turmas ofertadas pelo Instituto Metrópole Digital (IMD), departamento da Universidade Federal do Rio Grande do Norte (UFRN), para avaliar se o horário dessas turmas tem algum efeito no sucesso ou insucesso do aluno, se o professor também tem algum peso nessas chances e etc.\n",
    "\n",
    "Para isso foram escolhidas algumas das disciplinas com maior porcentagem de insucesso são elas: Fundamentos Matemáticos da Computação I (FMCI), Fundamentos Matemáticos da Computação II (FMCII), Cálculo I além da disciplina deste projeto Probabilidade. Todos os dados utilizados para análise foram retirados do banco de dados público da UFRN no *website* http://dados.ufrn.br.  \n",
    "\n",
    "## 2 Recursos utilizados\n",
    "\n",
    "Na análise dos dados serão utilizados as seguintes bibliotecas *python* o *Pandas* para a criação e manipulção dos *dataframes*, *Numpy* para a análise matemática e o *Bokeh* para a visualização dos dados."
   ]
  },
  {
   "cell_type": "markdown",
   "metadata": {},
   "source": [
    "## 3 Preparação do Ambiente e Criação dos Dataframes\n",
    "\n",
    "Antes de começarmos é necessário preparar o *notebook*, instalado as bibliotecas já citadas rodando o seguinte comando, e realizar a criação dos dados e subsequentemente manipulá-los para facilitar a sua análise. Todo o processo de manipulção está descrito em forma de commentários nos códigos."
   ]
  },
  {
   "cell_type": "code",
   "execution_count": 1,
   "metadata": {},
   "outputs": [
    {
     "name": "stdout",
     "output_type": "stream",
     "text": [
      "Requirement already satisfied: pandas in c:\\users\\nalbe\\anaconda3\\lib\\site-packages (0.20.3)\n",
      "Requirement already satisfied: python-dateutil>=2 in c:\\users\\nalbe\\anaconda3\\lib\\site-packages (from pandas) (2.6.1)\n",
      "Requirement already satisfied: pytz>=2011k in c:\\users\\nalbe\\anaconda3\\lib\\site-packages (from pandas) (2017.2)\n",
      "Requirement already satisfied: numpy>=1.7.0 in c:\\users\\nalbe\\anaconda3\\lib\\site-packages (from pandas) (1.13.3)\n",
      "Requirement already satisfied: six>=1.5 in c:\\users\\nalbe\\anaconda3\\lib\\site-packages (from python-dateutil>=2->pandas) (1.11.0)\n"
     ]
    },
    {
     "name": "stderr",
     "output_type": "stream",
     "text": [
      "notebook 5.4.0 requires terminado>=0.8.1, which is not installed.\n"
     ]
    },
    {
     "name": "stdout",
     "output_type": "stream",
     "text": [
      "Requirement already satisfied: numpy in c:\\users\\nalbe\\anaconda3\\lib\\site-packages (1.13.3)\n"
     ]
    },
    {
     "name": "stderr",
     "output_type": "stream",
     "text": [
      "notebook 5.4.0 requires terminado>=0.8.1, which is not installed.\n"
     ]
    },
    {
     "name": "stdout",
     "output_type": "stream",
     "text": [
      "Requirement already satisfied: bokeh in c:\\users\\nalbe\\anaconda3\\lib\\site-packages (0.12.10)\n",
      "Requirement already satisfied: six>=1.5.2 in c:\\users\\nalbe\\anaconda3\\lib\\site-packages (from bokeh) (1.11.0)\n",
      "Requirement already satisfied: PyYAML>=3.10 in c:\\users\\nalbe\\anaconda3\\lib\\site-packages (from bokeh) (3.12)\n",
      "Requirement already satisfied: python-dateutil>=2.1 in c:\\users\\nalbe\\anaconda3\\lib\\site-packages (from bokeh) (2.6.1)\n",
      "Requirement already satisfied: Jinja2>=2.7 in c:\\users\\nalbe\\anaconda3\\lib\\site-packages (from bokeh) (2.9.6)\n",
      "Requirement already satisfied: numpy>=1.7.1 in c:\\users\\nalbe\\anaconda3\\lib\\site-packages (from bokeh) (1.13.3)\n",
      "Requirement already satisfied: tornado>=4.3 in c:\\users\\nalbe\\anaconda3\\lib\\site-packages (from bokeh) (4.5.2)\n",
      "Requirement already satisfied: MarkupSafe>=0.23 in c:\\users\\nalbe\\anaconda3\\lib\\site-packages (from Jinja2>=2.7->bokeh) (1.0)\n"
     ]
    },
    {
     "name": "stderr",
     "output_type": "stream",
     "text": [
      "notebook 5.4.0 requires terminado>=0.8.1, which is not installed.\n"
     ]
    }
   ],
   "source": [
    "!pip install pandas\n",
    "!pip install numpy\n",
    "!pip install bokeh"
   ]
  },
  {
   "cell_type": "code",
   "execution_count": 2,
   "metadata": {},
   "outputs": [],
   "source": [
    "import pandas as pd\n",
    "import numpy as np\n",
    "import seaborn as sns\n",
    "from urllib.request import urlopen\n",
    "import matplotlib.pyplot as plt"
   ]
  },
  {
   "cell_type": "code",
   "execution_count": 3,
   "metadata": {},
   "outputs": [],
   "source": [
    "url_componentes_curriculares = 'http://dados.ufrn.br/dataset/3fea67e8-6916-4ed0-aaa6-9a8ca06a9bdc/resource/9a3521d2-4bc5-4fda-93f0-f701c8a20727/download/componentes-curriculares-presenciais.csv'\n",
    "\n",
    "url_cursos_ufrn = 'http://dados.ufrn.br/dataset/08b0dc59-faa9-4281-bd1e-2a39f532489e/resource/949be3d1-e85b-4d0f-9f60-1d9a7484bb06/download/cursos-ufrn'\n",
    "\n",
    "url_matriculas_2015_1 = 'http://dados.ufrn.br/dataset/c8650d55-3c5a-4787-a126-d28a4ef902a6/resource/9e7ba1c2-f92d-4b9c-9e91-3b026ecdf913/download/matriculas-de-2015.1.csv'\n",
    "url_matriculas_2015_2 = 'http://dados.ufrn.br/dataset/c8650d55-3c5a-4787-a126-d28a4ef902a6/resource/baa6c8b4-2072-417f-b238-c028ccc8c14b/download/matriculas-de-2015.2.csv'\n",
    "url_matriculas_2016_1 = 'http://dados.ufrn.br/dataset/c8650d55-3c5a-4787-a126-d28a4ef902a6/resource/4778d3ce-8898-46a8-a623-ee6a480a2980/download/matriculas-de-2016.1.csv'\n",
    "url_matriculas_2016_2 = 'http://dados.ufrn.br/dataset/c8650d55-3c5a-4787-a126-d28a4ef902a6/resource/f6179838-b619-4d7d-af9c-18c438b80dd4/download/matriculas-de-2016.2.csv'\n",
    "url_matriculas_2017_1 = 'http://dados.ufrn.br/dataset/c8650d55-3c5a-4787-a126-d28a4ef902a6/resource/79071c21-e32c-438f-b930-d1b6ccc02ec2/download/matricula-componente-20171'\n",
    "url_matriculas_2017_2 = 'http://dados.ufrn.br/dataset/c8650d55-3c5a-4787-a126-d28a4ef902a6/resource/55dfe713-ff7c-4fa8-8d1d-d4294a025bff/download/matricula-componente-20172'\n",
    "\n",
    "url_turmas_2015_1 = 'http://dados.ufrn.br/dataset/1938623d-fb07-41a4-a55a-1691f7c3b8b5/resource/4d5aee5a-00b0-4ed6-a4be-59fa77a56797/download/turmas-2015.1.csv'\n",
    "url_turmas_2015_2 = 'http://dados.ufrn.br/dataset/1938623d-fb07-41a4-a55a-1691f7c3b8b5/resource/7c59621c-4a8b-49d4-b319-83cfea9bdf28/download/turmas-2015.2.csv'\n",
    "url_turmas_2016_1 = 'http://dados.ufrn.br/dataset/1938623d-fb07-41a4-a55a-1691f7c3b8b5/resource/322d9977-ba15-47f1-8216-75a1ca78e197/download/turmas-2016.1.csv'\n",
    "url_turmas_2016_2 = 'http://dados.ufrn.br/dataset/1938623d-fb07-41a4-a55a-1691f7c3b8b5/resource/5e8e3228-7f22-40a2-9efd-561c44844567/download/turmas-2016.2.csv'\n",
    "url_turmas_2017_1 = 'http://dados.ufrn.br/dataset/1938623d-fb07-41a4-a55a-1691f7c3b8b5/resource/5e77d066-d506-45eb-a21e-76aa79616fef/download/turmas-2017.1.csv'\n",
    "url_turmas_2017_2 = 'http://dados.ufrn.br/dataset/1938623d-fb07-41a4-a55a-1691f7c3b8b5/resource/01fe7343-fdf0-4a67-b915-2386b7c2fecb/download/turmas-2017.2.csv'\n",
    "\n",
    "docentes_url = 'http://dados.ufrn.br/dataset/8bf1a468-48ff-4f4d-95ee-b17b7a3a5592/resource/ff0a457e-76fa-4aca-ad99-48aebd7db070/download/docentes.csv'"
   ]
  },
  {
   "cell_type": "code",
   "execution_count": 4,
   "metadata": {},
   "outputs": [],
   "source": [
    "# Leitura dos csvs docentes, componentes, matriculas e cursos.\n",
    "\n",
    "docentes = pd.read_csv(docentes_url, sep=';')\n",
    "\n",
    "cursos_ufrn = pd.read_csv(url_cursos_ufrn, sep=';', error_bad_lines=False)\n",
    "\n",
    "componente = pd.read_csv(url_componentes_curriculares, sep=';'\n",
    "                         , usecols=[\"id_componente\",\"codigo\",\"nivel\",\"nome\",\"unidade_responsavel\"])\n",
    "\n",
    "matriculas_2015_1 = pd.read_csv(url_matriculas_2015_1, sep=';')\n",
    "matriculas_2015_2 = pd.read_csv(url_matriculas_2015_2, sep=';')\n",
    "matriculas_2016_1 = pd.read_csv(url_matriculas_2016_1, sep=';')\n",
    "matriculas_2016_2 = pd.read_csv(url_matriculas_2016_2, sep=';')\n",
    "matriculas_2017_1 = pd.read_csv(url_matriculas_2017_1, sep=';')\n",
    "matriculas_2017_2 = pd.read_csv(url_matriculas_2017_2, sep=';')"
   ]
  },
  {
   "cell_type": "code",
   "execution_count": 5,
   "metadata": {},
   "outputs": [],
   "source": [
    "# Leitura dos csvs das turmas.\n",
    "\n",
    "turmas_2015_1 = pd.read_csv(url_turmas_2015_1, sep=';')\n",
    "turmas_2015_2 = pd.read_csv(url_turmas_2015_2, sep=';')\n",
    "turmas_2016_1 = pd.read_csv(url_turmas_2016_1, sep=';') \n",
    "turmas_2016_2 = pd.read_csv(url_turmas_2016_2, sep=';')\n",
    "turmas_2017_1 = pd.read_csv(url_turmas_2017_1, sep=';')\n",
    "turmas_2017_2 = pd.read_csv(url_turmas_2017_2, sep=';')\n",
    "\n",
    "turmas_2015_1.rename(columns={'id_componente_curricular': 'id_componente'}, inplace=True)\n",
    "turmas_2015_2.rename(columns={'id_componente_curricular': 'id_componente'}, inplace=True)\n",
    "turmas_2016_1.rename(columns={'id_componente_curricular': 'id_componente'}, inplace=True)\n",
    "turmas_2016_2.rename(columns={'id_componente_curricular': 'id_componente'}, inplace=True)\n",
    "turmas_2017_1.rename(columns={'id_componente_curricular': 'id_componente'}, inplace=True)\n",
    "turmas_2017_2.rename(columns={'id_componente_curricular': 'id_componente'}, inplace=True)\n",
    "\n",
    "turmas_2015_1.id_componente = turmas_2015_1.id_componente.astype(str)\n",
    "turmas_2015_2.id_componente = turmas_2015_2.id_componente.astype(str)\n",
    "turmas_2016_1.id_componente = turmas_2016_1.id_componente.astype(str)\n",
    "turmas_2016_2.id_componente = turmas_2016_2.id_componente.astype(str)\n",
    "turmas_2017_1.id_componente = turmas_2017_1.id_componente.astype(str)\n",
    "turmas_2017_2.id_componente = turmas_2017_2.id_componente.astype(str)\n",
    "\n",
    "# Adicionando \n",
    "\n",
    "turmas_2015_1['ano_semestre'] = '2015_1'\n",
    "turmas_2015_2['ano_semestre'] = '2015_2'\n",
    "turmas_2016_1['ano_semestre'] = '2016_1'\n",
    "turmas_2016_2['ano_semestre'] = '2016_2'\n",
    "turmas_2017_1['ano_semestre'] = '2017_1'\n",
    "turmas_2017_2['ano_semestre'] = '2017_2'"
   ]
  },
  {
   "cell_type": "code",
   "execution_count": 6,
   "metadata": {},
   "outputs": [],
   "source": [
    "# Retirando a coluna Unnamed: 10 de alguns csvs\n",
    "\n",
    "matriculas_2015_1.drop('Unnamed: 10', 1, inplace=True) \n",
    "matriculas_2015_2.drop('Unnamed: 10', 1, inplace=True) \n",
    "matriculas_2016_1.drop('Unnamed: 10', 1, inplace=True) \n",
    "matriculas_2016_2.drop('Unnamed: 10', 1, inplace=True) \n",
    "\n",
    "# Criando coluna ano_semestre\n",
    "\n",
    "matriculas_2015_1['ano_semestre'] = '2015_1'\n",
    "matriculas_2015_2['ano_semestre'] = '2015_2'\n",
    "matriculas_2016_1['ano_semestre'] = '2016_1'\n",
    "matriculas_2016_2['ano_semestre'] = '2016_2'\n",
    "matriculas_2017_1['ano_semestre'] = '2017_1'\n",
    "matriculas_2017_2['ano_semestre'] = '2017_2'"
   ]
  },
  {
   "cell_type": "code",
   "execution_count": 7,
   "metadata": {
    "scrolled": true
   },
   "outputs": [],
   "source": [
    "# Combinando dataframes das matrículas.\n",
    "\n",
    "frames = [matriculas_2015_1, matriculas_2015_2, matriculas_2016_1, matriculas_2016_2, matriculas_2017_1, matriculas_2017_2]\n",
    "matriculas = pd.concat(frames)\n",
    "\n",
    "# Combinando os dataframes das turmas.\n",
    "\n",
    "frames  = [turmas_2015_1, turmas_2015_2, turmas_2016_1, turmas_2016_2, turmas_2017_1, turmas_2017_2]\n",
    "turmas = pd.concat(frames)"
   ]
  },
  {
   "cell_type": "code",
   "execution_count": 8,
   "metadata": {},
   "outputs": [],
   "source": [
    "# Limpando dados inválidos/desconhecidos da descrição.\n",
    "\n",
    "matriculas = matriculas[matriculas.descricao != 'DESISTENCIA']\n",
    "matriculas = matriculas[matriculas.descricao != 'CANCELADO']\n",
    "matriculas = matriculas[matriculas.descricao != 'INDEFERIDO']\n",
    "matriculas = matriculas[matriculas.descricao != 'EXCLUIDA']\n",
    "matriculas = matriculas[matriculas.descricao != 'DISPENSADO']\n",
    "matriculas = matriculas[matriculas.descricao != 'CUMPRIU']\n",
    "matriculas = matriculas[matriculas.descricao != 'EM ESPERA']\n",
    "matriculas = matriculas[matriculas.descricao != 'AGUARDANDO DEFERIMENTO']\n",
    "matriculas = matriculas[matriculas.descricao != 'TRANSFERIDO']\n",
    "matriculas = matriculas[matriculas.descricao != 'INCORPORADO']"
   ]
  },
  {
   "cell_type": "code",
   "execution_count": 9,
   "metadata": {},
   "outputs": [],
   "source": [
    "# Limpando dados inválidos/desconhecidos da descrição.\n",
    "\n",
    "matriculas = matriculas[matriculas.descricao != 'DESISTENCIA']\n",
    "matriculas = matriculas[matriculas.descricao != 'CANCELADO']\n",
    "matriculas = matriculas[matriculas.descricao != 'INDEFERIDO']\n",
    "matriculas = matriculas[matriculas.descricao != 'EXCLUIDA']\n",
    "matriculas = matriculas[matriculas.descricao != 'DISPENSADO']\n",
    "matriculas = matriculas[matriculas.descricao != 'CUMPRIU']\n",
    "matriculas = matriculas[matriculas.descricao != 'EM ESPERA']\n",
    "matriculas = matriculas[matriculas.descricao != 'AGUARDANDO DEFERIMENTO']\n",
    "matriculas = matriculas[matriculas.descricao != 'TRANSFERIDO']\n",
    "matriculas = matriculas[matriculas.descricao != 'INCORPORADO']"
   ]
  },
  {
   "cell_type": "code",
   "execution_count": 10,
   "metadata": {
    "scrolled": false
   },
   "outputs": [],
   "source": [
    "# Gerando dataframe com as turmas e componentes.\n",
    "\n",
    "colunas = [\"id_turma\",\"id_docente_interno\",\"codigo\",\"nivel_ensino\",\"nome\",\"unidade_responsavel\",\n",
    "          \"situacao_turma\",\"capacidade_aluno\",\"descricao_horario\", \"ano_semestre\"]\n",
    "merge_turmas_componentes = pd.merge(turmas, componente, on='id_componente')[colunas]\n",
    "\n",
    "merge_turmas_componentes.dropna(inplace=True)\n"
   ]
  },
  {
   "cell_type": "code",
   "execution_count": 11,
   "metadata": {},
   "outputs": [],
   "source": [
    "# Filtrando para os componentes do IMD\n",
    "\n",
    "componentes_imd = merge_turmas_componentes[merge_turmas_componentes.codigo.str.contains('IMD')]\n",
    "\n",
    "componentes_imd = componentes_imd[componentes_imd.situacao_turma == 'CONSOLIDADA']\n",
    "\n",
    "# Alterando o nome da coluna id_docente_interno para id_servidor (mesma do dataframe docentes).\n",
    "\n",
    "componentes_imd.rename(columns={'id_docente_interno': 'id_servidor'}, inplace=True)\n",
    "componentes_imd.capacidade_aluno = componentes_imd.capacidade_aluno.astype(np.int64)\n",
    "componentes_imd.id_servidor = componentes_imd.id_servidor.astype(np.int64)\n"
   ]
  },
  {
   "cell_type": "code",
   "execution_count": 12,
   "metadata": {},
   "outputs": [],
   "source": [
    "# Merge dos dataframes componentes_imd e docentes, para amarrar os nomes dos docentes as turmas.\n",
    "\n",
    "colunas = [\"id_turma\", \"codigo\", \"nivel_ensino\", \"nome_y\", \"codigo\", \"nivel_ensino\",\n",
    "          \"nome_x\",\"capacidade_aluno\", \"descricao_horario\", \"ano_semestre\"]\n",
    "\n",
    "turmas_imd = pd.merge(componentes_imd, docentes, on=\"id_servidor\")[colunas]\n",
    "turmas_imd.id_turma = turmas_imd.id_turma.astype(np.int64)\n",
    "turmas_imd.drop('ano_semestre', axis=1, inplace=True)\n",
    "\n"
   ]
  },
  {
   "cell_type": "code",
   "execution_count": 13,
   "metadata": {},
   "outputs": [],
   "source": [
    "# Merge dos dataframes matriculas e turmas_imd.\n",
    "\n",
    "matriculas.id_turma = matriculas.id_turma.astype(np.int64)\n",
    "colunas = [\"id_turma\", \"discente\", \"codigo\", \"nome_y\", \"nome_x\", \"descricao_horario\", \"unidade\", \"nota\", \"reposicao\"\n",
    "           , \"media_final\", \"numero_total_faltas\", \"descricao\", \"ano_semestre\"]\n",
    "\n",
    "merge_matriculas_turmas_imd = pd.merge(matriculas, turmas_imd, on=\"id_turma\")[colunas]"
   ]
  },
  {
   "cell_type": "code",
   "execution_count": 14,
   "metadata": {},
   "outputs": [
    {
     "data": {
      "text/html": [
       "<div>\n",
       "<style>\n",
       "    .dataframe thead tr:only-child th {\n",
       "        text-align: right;\n",
       "    }\n",
       "\n",
       "    .dataframe thead th {\n",
       "        text-align: left;\n",
       "    }\n",
       "\n",
       "    .dataframe tbody tr th {\n",
       "        vertical-align: top;\n",
       "    }\n",
       "</style>\n",
       "<table border=\"1\" class=\"dataframe\">\n",
       "  <thead>\n",
       "    <tr style=\"text-align: right;\">\n",
       "      <th></th>\n",
       "      <th>id_turma</th>\n",
       "      <th>discente</th>\n",
       "      <th>codigo</th>\n",
       "      <th>codigo</th>\n",
       "      <th>nome_y</th>\n",
       "      <th>nome_x</th>\n",
       "      <th>descricao_horario</th>\n",
       "      <th>unidade</th>\n",
       "      <th>nota</th>\n",
       "      <th>reposicao</th>\n",
       "      <th>media_final</th>\n",
       "      <th>numero_total_faltas</th>\n",
       "      <th>descricao</th>\n",
       "      <th>ano_semestre</th>\n",
       "    </tr>\n",
       "  </thead>\n",
       "  <tbody>\n",
       "    <tr>\n",
       "      <th>0</th>\n",
       "      <td>1239422</td>\n",
       "      <td>bcd9e4d861acc00fac216bbe953c63b8</td>\n",
       "      <td>IMD0040</td>\n",
       "      <td>IMD0040</td>\n",
       "      <td>CARLOS EDUARDO DA SILVA</td>\n",
       "      <td>LINGUAGEM DE PROGRAMAÇÃO II</td>\n",
       "      <td>24N12 (02/02/2015 - 20/06/2015)</td>\n",
       "      <td>2.0</td>\n",
       "      <td>7.6</td>\n",
       "      <td>f</td>\n",
       "      <td>7.9</td>\n",
       "      <td>2.0</td>\n",
       "      <td>APROVADO</td>\n",
       "      <td>2015_1</td>\n",
       "    </tr>\n",
       "    <tr>\n",
       "      <th>1</th>\n",
       "      <td>1239422</td>\n",
       "      <td>bcd9e4d861acc00fac216bbe953c63b8</td>\n",
       "      <td>IMD0040</td>\n",
       "      <td>IMD0040</td>\n",
       "      <td>CARLOS EDUARDO DA SILVA</td>\n",
       "      <td>LINGUAGEM DE PROGRAMAÇÃO II</td>\n",
       "      <td>24N12 (02/02/2015 - 20/06/2015)</td>\n",
       "      <td>1.0</td>\n",
       "      <td>8.4</td>\n",
       "      <td>f</td>\n",
       "      <td>7.9</td>\n",
       "      <td>2.0</td>\n",
       "      <td>APROVADO</td>\n",
       "      <td>2015_1</td>\n",
       "    </tr>\n",
       "    <tr>\n",
       "      <th>2</th>\n",
       "      <td>1239422</td>\n",
       "      <td>bcd9e4d861acc00fac216bbe953c63b8</td>\n",
       "      <td>IMD0040</td>\n",
       "      <td>IMD0040</td>\n",
       "      <td>CARLOS EDUARDO DA SILVA</td>\n",
       "      <td>LINGUAGEM DE PROGRAMAÇÃO II</td>\n",
       "      <td>24N12 (02/02/2015 - 20/06/2015)</td>\n",
       "      <td>3.0</td>\n",
       "      <td>7.6</td>\n",
       "      <td>f</td>\n",
       "      <td>7.9</td>\n",
       "      <td>2.0</td>\n",
       "      <td>APROVADO</td>\n",
       "      <td>2015_1</td>\n",
       "    </tr>\n",
       "    <tr>\n",
       "      <th>3</th>\n",
       "      <td>1239422</td>\n",
       "      <td>1fdfae54f2e3d6e8a00d8ceab48c74f6</td>\n",
       "      <td>IMD0040</td>\n",
       "      <td>IMD0040</td>\n",
       "      <td>CARLOS EDUARDO DA SILVA</td>\n",
       "      <td>LINGUAGEM DE PROGRAMAÇÃO II</td>\n",
       "      <td>24N12 (02/02/2015 - 20/06/2015)</td>\n",
       "      <td>1.0</td>\n",
       "      <td>7.3</td>\n",
       "      <td>f</td>\n",
       "      <td>6.0</td>\n",
       "      <td>18.0</td>\n",
       "      <td>APROVADO POR NOTA</td>\n",
       "      <td>2015_1</td>\n",
       "    </tr>\n",
       "    <tr>\n",
       "      <th>4</th>\n",
       "      <td>1239422</td>\n",
       "      <td>1fdfae54f2e3d6e8a00d8ceab48c74f6</td>\n",
       "      <td>IMD0040</td>\n",
       "      <td>IMD0040</td>\n",
       "      <td>CARLOS EDUARDO DA SILVA</td>\n",
       "      <td>LINGUAGEM DE PROGRAMAÇÃO II</td>\n",
       "      <td>24N12 (02/02/2015 - 20/06/2015)</td>\n",
       "      <td>2.0</td>\n",
       "      <td>5.4</td>\n",
       "      <td>f</td>\n",
       "      <td>6.0</td>\n",
       "      <td>18.0</td>\n",
       "      <td>APROVADO POR NOTA</td>\n",
       "      <td>2015_1</td>\n",
       "    </tr>\n",
       "  </tbody>\n",
       "</table>\n",
       "</div>"
      ],
      "text/plain": [
       "   id_turma                          discente   codigo   codigo  \\\n",
       "0   1239422  bcd9e4d861acc00fac216bbe953c63b8  IMD0040  IMD0040   \n",
       "1   1239422  bcd9e4d861acc00fac216bbe953c63b8  IMD0040  IMD0040   \n",
       "2   1239422  bcd9e4d861acc00fac216bbe953c63b8  IMD0040  IMD0040   \n",
       "3   1239422  1fdfae54f2e3d6e8a00d8ceab48c74f6  IMD0040  IMD0040   \n",
       "4   1239422  1fdfae54f2e3d6e8a00d8ceab48c74f6  IMD0040  IMD0040   \n",
       "\n",
       "                    nome_y                       nome_x  \\\n",
       "0  CARLOS EDUARDO DA SILVA  LINGUAGEM DE PROGRAMAÇÃO II   \n",
       "1  CARLOS EDUARDO DA SILVA  LINGUAGEM DE PROGRAMAÇÃO II   \n",
       "2  CARLOS EDUARDO DA SILVA  LINGUAGEM DE PROGRAMAÇÃO II   \n",
       "3  CARLOS EDUARDO DA SILVA  LINGUAGEM DE PROGRAMAÇÃO II   \n",
       "4  CARLOS EDUARDO DA SILVA  LINGUAGEM DE PROGRAMAÇÃO II   \n",
       "\n",
       "                 descricao_horario  unidade  nota reposicao  media_final  \\\n",
       "0  24N12 (02/02/2015 - 20/06/2015)      2.0   7.6         f          7.9   \n",
       "1  24N12 (02/02/2015 - 20/06/2015)      1.0   8.4         f          7.9   \n",
       "2  24N12 (02/02/2015 - 20/06/2015)      3.0   7.6         f          7.9   \n",
       "3  24N12 (02/02/2015 - 20/06/2015)      1.0   7.3         f          6.0   \n",
       "4  24N12 (02/02/2015 - 20/06/2015)      2.0   5.4         f          6.0   \n",
       "\n",
       "   numero_total_faltas          descricao ano_semestre  \n",
       "0                  2.0           APROVADO       2015_1  \n",
       "1                  2.0           APROVADO       2015_1  \n",
       "2                  2.0           APROVADO       2015_1  \n",
       "3                 18.0  APROVADO POR NOTA       2015_1  \n",
       "4                 18.0  APROVADO POR NOTA       2015_1  "
      ]
     },
     "execution_count": 14,
     "metadata": {},
     "output_type": "execute_result"
    }
   ],
   "source": [
    "merge_matriculas_turmas_imd.head()"
   ]
  },
  {
   "cell_type": "code",
   "execution_count": 15,
   "metadata": {},
   "outputs": [],
   "source": [
    "merge_matriculas_turmas_imd.to_csv('matriculas_finais.csv', sep=';')"
   ]
  },
  {
   "cell_type": "code",
   "execution_count": 16,
   "metadata": {},
   "outputs": [],
   "source": [
    "# Criação dos dataframes contendo as notas das disciplinas especificadas.\n",
    "\n",
    "fmcI = merge_matriculas_turmas_imd.loc[merge_matriculas_turmas_imd['nome_x'] == 'FUNDAMENTOS MATEMÁTICOS DA COMPUTAÇÃO I']\n",
    "fmcII = merge_matriculas_turmas_imd.loc[merge_matriculas_turmas_imd['nome_x'] == 'FUNDAMENTOS MATEMÁTICOS DA COMPUTAÇÃO II']\n",
    "calc = merge_matriculas_turmas_imd.loc[merge_matriculas_turmas_imd['nome_x'] == 'CÁLCULO DIFERENCIAL E INTEGRAL I']\n",
    "prob = merge_matriculas_turmas_imd.loc[merge_matriculas_turmas_imd['nome_x'] == 'PROBABILIDADE']"
   ]
  },
  {
   "cell_type": "markdown",
   "metadata": {},
   "source": [
    "## Analise_das_notas_FMC2_(nalbert)"
   ]
  },
  {
   "cell_type": "markdown",
   "metadata": {
    "scrolled": false
   },
   "source": [
    "Foi dito anteriormente que esse \"notebook\" vai fazer uma analise de disciplinas do do curso tecnologia da informação do IMD. Abaixo foi feita uma breve analise das notas da disciplina \"fundamentos matamáticos da computação 2\", uma das matérias mais temidas no curso. A analise consiste em dividir as notas por unidades, isso porque cada semestre possui 3 unidades, outra parte da analise além de separar as notas em unidades também separa em semestres, deixando assim a possibilidade de analisar as notas de cada uniadade de cada semestre, assim tentaremos descobrir se ouve melhora ou piora nas notas da disciplina (isso deve mostrar um reflexo da dificuldade dos alunos em serem aprovados na diciplina).\n",
    "  \n",
    "  Os graficos plotados são:\n",
    "    1. Um \"box plot\" das 3 unidades de FMC2 contando junto todos os semestres desde que a matéria começou a ser lecionada.\n",
    "    2. Três \"box plot\":\n",
    "        a. um mostrando a primeira unidade de cada semestre de 2015.1 até 2017.2\n",
    "        b. um mostrando a segunda unidade de cada semestre de 2015.1 até 2017.2\n",
    "        c. um mostrando a terceira unidade de cada semestre de 2015.1 até 2017.2\n",
    "    com isso se espera ter uma distribuição de todos os semetres da disciplina de forma que possamos ver o decorrer da materia de um olhar proximo ao dos alunos."
   ]
  },
  {
   "cell_type": "code",
   "execution_count": 12,
   "metadata": {},
   "outputs": [],
   "source": [
    "# lendo o csv materias finais\n",
    "matriculas_finais = pd.read_csv('matriculas_finais.csv', sep=';', encoding='latin1')"
   ]
  },
  {
   "cell_type": "code",
   "execution_count": 13,
   "metadata": {
    "scrolled": true
   },
   "outputs": [],
   "source": [
    "# colocar configuração inicial do seborn para funcionar no notebook\n",
    "sns.set()\n",
    "sns.set_context(\"notebook\")"
   ]
  },
  {
   "cell_type": "code",
   "execution_count": 14,
   "metadata": {
    "scrolled": true
   },
   "outputs": [
    {
     "data": {
      "text/html": [
       "<div>\n",
       "<style>\n",
       "    .dataframe thead tr:only-child th {\n",
       "        text-align: right;\n",
       "    }\n",
       "\n",
       "    .dataframe thead th {\n",
       "        text-align: left;\n",
       "    }\n",
       "\n",
       "    .dataframe tbody tr th {\n",
       "        vertical-align: top;\n",
       "    }\n",
       "</style>\n",
       "<table border=\"1\" class=\"dataframe\">\n",
       "  <thead>\n",
       "    <tr style=\"text-align: right;\">\n",
       "      <th></th>\n",
       "      <th>Unnamed: 0</th>\n",
       "      <th>id_turma</th>\n",
       "      <th>discente</th>\n",
       "      <th>codigo</th>\n",
       "      <th>codigo.1</th>\n",
       "      <th>nome_y</th>\n",
       "      <th>nome_x</th>\n",
       "      <th>descricao_horario</th>\n",
       "      <th>unidade</th>\n",
       "      <th>nota</th>\n",
       "      <th>reposicao</th>\n",
       "      <th>media_final</th>\n",
       "      <th>numero_total_faltas</th>\n",
       "      <th>descricao</th>\n",
       "      <th>ano_semestre</th>\n",
       "    </tr>\n",
       "  </thead>\n",
       "  <tbody>\n",
       "    <tr>\n",
       "      <th>5107</th>\n",
       "      <td>5107</td>\n",
       "      <td>1239541</td>\n",
       "      <td>e0b2d9be3f3548be50ed407cd76e8f59</td>\n",
       "      <td>IMD0038</td>\n",
       "      <td>IMD0038</td>\n",
       "      <td>REGIVAN HUGO NUNES SANTIAGO</td>\n",
       "      <td>FUNDAMENTOS MATEMÁTICOS DA COMPUTAÇÃO II</td>\n",
       "      <td>246M34 (02/02/2015 - 20/06/2015)</td>\n",
       "      <td>2.0</td>\n",
       "      <td>4.5</td>\n",
       "      <td>f</td>\n",
       "      <td>6.2</td>\n",
       "      <td>16.0</td>\n",
       "      <td>APROVADO POR NOTA</td>\n",
       "      <td>2015_1</td>\n",
       "    </tr>\n",
       "    <tr>\n",
       "      <th>5108</th>\n",
       "      <td>5108</td>\n",
       "      <td>1239541</td>\n",
       "      <td>e0b2d9be3f3548be50ed407cd76e8f59</td>\n",
       "      <td>IMD0038</td>\n",
       "      <td>IMD0038</td>\n",
       "      <td>REGIVAN HUGO NUNES SANTIAGO</td>\n",
       "      <td>FUNDAMENTOS MATEMÁTICOS DA COMPUTAÇÃO II</td>\n",
       "      <td>246M34 (02/02/2015 - 20/06/2015)</td>\n",
       "      <td>3.0</td>\n",
       "      <td>6.0</td>\n",
       "      <td>f</td>\n",
       "      <td>6.2</td>\n",
       "      <td>16.0</td>\n",
       "      <td>APROVADO POR NOTA</td>\n",
       "      <td>2015_1</td>\n",
       "    </tr>\n",
       "    <tr>\n",
       "      <th>5109</th>\n",
       "      <td>5109</td>\n",
       "      <td>1239541</td>\n",
       "      <td>e0b2d9be3f3548be50ed407cd76e8f59</td>\n",
       "      <td>IMD0038</td>\n",
       "      <td>IMD0038</td>\n",
       "      <td>REGIVAN HUGO NUNES SANTIAGO</td>\n",
       "      <td>FUNDAMENTOS MATEMÁTICOS DA COMPUTAÇÃO II</td>\n",
       "      <td>246M34 (02/02/2015 - 20/06/2015)</td>\n",
       "      <td>1.0</td>\n",
       "      <td>4.0</td>\n",
       "      <td>t</td>\n",
       "      <td>6.2</td>\n",
       "      <td>16.0</td>\n",
       "      <td>APROVADO POR NOTA</td>\n",
       "      <td>2015_1</td>\n",
       "    </tr>\n",
       "    <tr>\n",
       "      <th>5110</th>\n",
       "      <td>5110</td>\n",
       "      <td>1239541</td>\n",
       "      <td>2a972fdb2041099e5328733757678e82</td>\n",
       "      <td>IMD0038</td>\n",
       "      <td>IMD0038</td>\n",
       "      <td>REGIVAN HUGO NUNES SANTIAGO</td>\n",
       "      <td>FUNDAMENTOS MATEMÁTICOS DA COMPUTAÇÃO II</td>\n",
       "      <td>246M34 (02/02/2015 - 20/06/2015)</td>\n",
       "      <td>3.0</td>\n",
       "      <td>6.5</td>\n",
       "      <td>f</td>\n",
       "      <td>6.3</td>\n",
       "      <td>16.0</td>\n",
       "      <td>APROVADO POR NOTA</td>\n",
       "      <td>2015_1</td>\n",
       "    </tr>\n",
       "    <tr>\n",
       "      <th>5111</th>\n",
       "      <td>5111</td>\n",
       "      <td>1239541</td>\n",
       "      <td>2a972fdb2041099e5328733757678e82</td>\n",
       "      <td>IMD0038</td>\n",
       "      <td>IMD0038</td>\n",
       "      <td>REGIVAN HUGO NUNES SANTIAGO</td>\n",
       "      <td>FUNDAMENTOS MATEMÁTICOS DA COMPUTAÇÃO II</td>\n",
       "      <td>246M34 (02/02/2015 - 20/06/2015)</td>\n",
       "      <td>1.0</td>\n",
       "      <td>7.5</td>\n",
       "      <td>f</td>\n",
       "      <td>6.3</td>\n",
       "      <td>16.0</td>\n",
       "      <td>APROVADO POR NOTA</td>\n",
       "      <td>2015_1</td>\n",
       "    </tr>\n",
       "  </tbody>\n",
       "</table>\n",
       "</div>"
      ],
      "text/plain": [
       "      Unnamed: 0  id_turma                          discente   codigo  \\\n",
       "5107        5107   1239541  e0b2d9be3f3548be50ed407cd76e8f59  IMD0038   \n",
       "5108        5108   1239541  e0b2d9be3f3548be50ed407cd76e8f59  IMD0038   \n",
       "5109        5109   1239541  e0b2d9be3f3548be50ed407cd76e8f59  IMD0038   \n",
       "5110        5110   1239541  2a972fdb2041099e5328733757678e82  IMD0038   \n",
       "5111        5111   1239541  2a972fdb2041099e5328733757678e82  IMD0038   \n",
       "\n",
       "     codigo.1                       nome_y  \\\n",
       "5107  IMD0038  REGIVAN HUGO NUNES SANTIAGO   \n",
       "5108  IMD0038  REGIVAN HUGO NUNES SANTIAGO   \n",
       "5109  IMD0038  REGIVAN HUGO NUNES SANTIAGO   \n",
       "5110  IMD0038  REGIVAN HUGO NUNES SANTIAGO   \n",
       "5111  IMD0038  REGIVAN HUGO NUNES SANTIAGO   \n",
       "\n",
       "                                        nome_x  \\\n",
       "5107  FUNDAMENTOS MATEMÁTICOS DA COMPUTAÇÃO II   \n",
       "5108  FUNDAMENTOS MATEMÁTICOS DA COMPUTAÇÃO II   \n",
       "5109  FUNDAMENTOS MATEMÁTICOS DA COMPUTAÇÃO II   \n",
       "5110  FUNDAMENTOS MATEMÁTICOS DA COMPUTAÇÃO II   \n",
       "5111  FUNDAMENTOS MATEMÁTICOS DA COMPUTAÇÃO II   \n",
       "\n",
       "                     descricao_horario  unidade  nota reposicao  media_final  \\\n",
       "5107  246M34 (02/02/2015 - 20/06/2015)      2.0   4.5         f          6.2   \n",
       "5108  246M34 (02/02/2015 - 20/06/2015)      3.0   6.0         f          6.2   \n",
       "5109  246M34 (02/02/2015 - 20/06/2015)      1.0   4.0         t          6.2   \n",
       "5110  246M34 (02/02/2015 - 20/06/2015)      3.0   6.5         f          6.3   \n",
       "5111  246M34 (02/02/2015 - 20/06/2015)      1.0   7.5         f          6.3   \n",
       "\n",
       "      numero_total_faltas          descricao ano_semestre  \n",
       "5107                 16.0  APROVADO POR NOTA       2015_1  \n",
       "5108                 16.0  APROVADO POR NOTA       2015_1  \n",
       "5109                 16.0  APROVADO POR NOTA       2015_1  \n",
       "5110                 16.0  APROVADO POR NOTA       2015_1  \n",
       "5111                 16.0  APROVADO POR NOTA       2015_1  "
      ]
     },
     "execution_count": 14,
     "metadata": {},
     "output_type": "execute_result"
    }
   ],
   "source": [
    "# pegar das matriculas apenas as que foram feitas em FMC2\n",
    "turmas_fmc2 = matriculas_finais[matriculas_finais['nome_x'] == 'FUNDAMENTOS MATEMÁTICOS DA COMPUTAÇÃO II']\n",
    "turmas_fmc2.head()"
   ]
  },
  {
   "cell_type": "code",
   "execution_count": 15,
   "metadata": {
    "scrolled": true
   },
   "outputs": [],
   "source": [
    "# separar as matriculas por unidades\n",
    "un1 = turmas_fmc2[turmas_fmc2['unidade'] == 1.0]\n",
    "un2 = turmas_fmc2[turmas_fmc2['unidade'] == 2.0]\n",
    "un3 = turmas_fmc2[turmas_fmc2['unidade'] == 3.0]"
   ]
  },
  {
   "cell_type": "markdown",
   "metadata": {},
   "source": [
    "#### As_3_unidades_de_FMC2_com_todos_os_semestres_juntos"
   ]
  },
  {
   "cell_type": "code",
   "execution_count": 16,
   "metadata": {},
   "outputs": [
    {
     "data": {
      "image/png": "[encoded data removed]",
      "text/plain": [
       "<matplotlib.figure.Figure at 0x10d20b2ca58>"
      ]
     },
     "metadata": {},
     "output_type": "display_data"
    }
   ],
   "source": [
    "df = pd.DataFrame(index=range(1,len(un1)), columns = ['unidade_1', 'unidade_2', 'unidade_3'])\n",
    "df['unidade_1'] = un1['nota'].reset_index()['nota']\n",
    "df['unidade_2'] = un2['nota'].reset_index()['nota']\n",
    "df['unidade_3'] = un3['nota'].reset_index()['nota']\n",
    "\n",
    "sns.boxplot(data=df)\n",
    "plt.show()"
   ]
  },
  {
   "cell_type": "markdown",
   "metadata": {},
   "source": [
    "#### Primeira_unidade_de_FMC2"
   ]
  },
  {
   "cell_type": "code",
   "execution_count": 17,
   "metadata": {},
   "outputs": [
    {
     "data": {
      "image/png": "[encoded data removed]",
      "text/plain": [
       "<matplotlib.figure.Figure at 0x10d20ac5ba8>"
      ]
     },
     "metadata": {},
     "output_type": "display_data"
    }
   ],
   "source": [
    "uni_1_2015_1 = un1[un1['ano_semestre'] == '2015_1']['nota'].reset_index()\n",
    "uni_1_2015_2 = un1[un1['ano_semestre'] == '2015_2']['nota'].reset_index()\n",
    "uni_1_2016_1 = un1[un1['ano_semestre'] == '2016_1']['nota'].reset_index()\n",
    "uni_1_2016_2 = un1[un1['ano_semestre'] == '2016_2']['nota'].reset_index()\n",
    "uni_1_2017_1 = un1[un1['ano_semestre'] == '2017_1']['nota'].reset_index()\n",
    "uni_1_2017_2 = un1[un1['ano_semestre'] == '2017_2']['nota'].reset_index()\n",
    "\n",
    "uni_1_2015_2017 = pd.DataFrame(index=range(1,len(uni_1_2015_1)), columns = ['2015_1', '2015_2', '2016_1', '2016_2', '2017_1', '2017_2'])\n",
    "uni_1_2015_2017['2015_1'] = uni_1_2015_1['nota']\n",
    "uni_1_2015_2017['2015_2'] = uni_1_2015_2['nota']\n",
    "uni_1_2015_2017['2016_1'] = uni_1_2016_1['nota']\n",
    "uni_1_2015_2017['2016_2'] = uni_1_2016_2['nota']\n",
    "uni_1_2015_2017['2017_1'] = uni_1_2017_1['nota']\n",
    "uni_1_2015_2017['2017_2'] = uni_1_2017_2['nota']\n",
    "\n",
    "sns.boxplot(data=uni_1_2015_2017)\n",
    "plt.show()"
   ]
  },
  {
   "cell_type": "markdown",
   "metadata": {},
   "source": [
    "#### Segunda unidade de FMC2"
   ]
  },
  {
   "cell_type": "code",
   "execution_count": 18,
   "metadata": {},
   "outputs": [
    {
     "data": {
      "image/png": "[encoded data removed]",
      "text/plain": [
       "<matplotlib.figure.Figure at 0x10d20b1edd8>"
      ]
     },
     "metadata": {},
     "output_type": "display_data"
    }
   ],
   "source": [
    "uni_2_2015_1 = un2[un2['ano_semestre'] == '2015_1']['nota'].reset_index()\n",
    "uni_2_2015_2 = un2[un2['ano_semestre'] == '2015_2']['nota'].reset_index()\n",
    "uni_2_2016_1 = un2[un2['ano_semestre'] == '2016_1']['nota'].reset_index()\n",
    "uni_2_2016_2 = un2[un2['ano_semestre'] == '2016_2']['nota'].reset_index()\n",
    "uni_2_2017_1 = un2[un2['ano_semestre'] == '2017_1']['nota'].reset_index()\n",
    "uni_2_2017_2 = un2[un2['ano_semestre'] == '2017_2']['nota'].reset_index()\n",
    "\n",
    "uni_2_2015_2017 = pd.DataFrame(index=range(1,len(uni_1_2015_1)), columns = ['2015_1', '2015_2', '2016_1', '2016_2', '2017_1', '2017_2'])\n",
    "uni_2_2015_2017['2015_1'] = uni_2_2015_1['nota']\n",
    "uni_2_2015_2017['2015_2'] = uni_2_2015_2['nota']\n",
    "uni_2_2015_2017['2016_1'] = uni_2_2016_1['nota']\n",
    "uni_2_2015_2017['2016_2'] = uni_2_2016_2['nota']\n",
    "uni_2_2015_2017['2017_1'] = uni_2_2017_1['nota']\n",
    "uni_2_2015_2017['2017_2'] = uni_2_2017_2['nota']\n",
    "\n",
    "sns.boxplot(data=uni_2_2015_2017)\n",
    "plt.show()"
   ]
  },
  {
   "cell_type": "markdown",
   "metadata": {},
   "source": [
    "#### Terceira_unidade_de_FMC2"
   ]
  },
  {
   "cell_type": "code",
   "execution_count": 19,
   "metadata": {},
   "outputs": [
    {
     "data": {
      "image/png": "[encoded data removed]",
      "text/plain": [
       "<matplotlib.figure.Figure at 0x10d21400d30>"
      ]
     },
     "metadata": {},
     "output_type": "display_data"
    }
   ],
   "source": [
    "uni_3_2015_1 = un3[un3['ano_semestre'] == '2015_1'][['nota', 'ano_semestre']].reset_index()\n",
    "uni_3_2015_2 = un3[un3['ano_semestre'] == '2015_2'][['nota', 'ano_semestre']].reset_index()\n",
    "uni_3_2016_1 = un3[un3['ano_semestre'] == '2016_1'][['nota', 'ano_semestre']].reset_index()\n",
    "uni_3_2016_2 = un3[un3['ano_semestre'] == '2016_2'][['nota', 'ano_semestre']].reset_index()\n",
    "uni_3_2017_1 = un3[un3['ano_semestre'] == '2017_1'][['nota', 'ano_semestre']].reset_index()\n",
    "uni_3_2017_2 = un3[un3['ano_semestre'] == '2017_2'][['nota', 'ano_semestre']].reset_index()\n",
    "\n",
    "uni_3_2015_2017 = pd.DataFrame(index=range(1,len(uni_1_2015_1)), columns = ['2015_1', '2015_2', '2016_1', '2016_2', '2017_1', '2017_2'])\n",
    "uni_3_2015_2017['2015_1'] = uni_3_2015_1['nota']\n",
    "uni_3_2015_2017['2015_2'] = uni_3_2015_2['nota']\n",
    "uni_3_2015_2017['2016_1'] = uni_3_2016_1['nota']\n",
    "uni_3_2015_2017['2016_2'] = uni_3_2016_2['nota']\n",
    "uni_3_2015_2017['2017_1'] = uni_3_2017_1['nota']\n",
    "uni_3_2015_2017['2017_2'] = uni_3_2017_2['nota']\n",
    "\n",
    "sns.boxplot(data=uni_3_2015_2017)\n",
    "plt.show()"
   ]
  },
  {
   "cell_type": "markdown",
   "metadata": {},
   "source": [
    "## Analise_dos_gráficos_obtidos_(Nalbert)\n",
    "\n",
    "Com uma olhada no primeiro grafico [As_3_unidades_de_FMC2_com_todos_os_semestres_juntos](#As_3_unidades_de_FMC2_com_todos_os_semestres_juntos) notamos na unidade 1 50% dos alunos ficam com notas entre 0.5 e 4 com mediana igual a algo proximo de 2. O restante tira nota igual a 0 ou maior que 4 e menor que 9, tendo alguns \"outlines\" que ficam com nota superior a 9. Vamos para o grafico [Primeira_unidade_de_FMC2](#Primeira_unidade_de_FMC2) para ver como estão as notas de cada semestre desde 2015, para assim termos uma ideia mais historica melhor das notas da primeira unidade. No grafico da 1ª unidade vemos que nem sempre foi tão baixa a concentração dos alunos na região de notas baixas. Vemos que no inicio as notas se concentravam entre 2 e 5, mas a concentração de notas foi com o tempo descendo no grafico até que em 2017 chegou a 50% dos alunos tirarem notas entrem 0 e 2, tendo uma subida com 50% dos alunos no ultimo semestre tirando entre 0 e 3. Isso nos mostra que provavelmente apartir do primeiro semestre do ano passado algo vez a quantidade de alunos que tiram menos de 50% se concentrarem em niveis baixos. Algo pode ter acontecido com a forma de ensino, professores ou ate mesmo materiais que foi modificado e assim faz o aluno já iniciar a disciplina com nota baixa. Isso pode comprometer a qualidade nas unidades seguintes, visto que os alunos tiraram notas tão baixas provavelmente eles não absorveram bem o assunto e assim provavelmente terão uma deficuldade para entender os assuntos das unidades 2 e 3.\n",
    "  \n",
    "  Voltemos para o grafico [As_3_unidades_de_FMC2_com_todos_os_semestres_juntos](#As_3_unidades_de_FMC2_com_todos_os_semestres_juntos) e olhemos a segunda unidade. Podemos ver que agora 50% dos alunos tiraram notas entre 0.5 e 5, entretanto a mediana foi abaixo da mediana da unidade 1. A mediana é proximo a 1. Os Outros 50% dos alunos tiraram notas acima de 5. Agora veremos o grafico [Segunda unidade de FMC2](#Segunda unidade de FMC2) para vermos o historico das notas dos alunos na unidade 2. Vemos algo parecido com o primeiro grafico, de 2015 até 2016 os alunos tiveram concentrações de notas em diferentes partes dos graficos, com uma queda tremenda no primeiro semestre de 2017, nesse semestre 50% das notas se concentraram entre 0 e 0.5, com o resto estando concentrado entre 0.5 e 1, acima de 1 vemos que todos são \"outlines\", isso mostra que talvez a baixa performance dos alunos do 1º semestre foi reflexo de baixa absorção no conhecimento por algum motivo e com isso a segunda unidade teve um aproveitamento extremamente baixo. Entretanto vemos tanbém que no segundo semestre de 2017 ouve uma melhora significativa e 50% dos alunos tiraram notas entre 0 e 5 entretanto a mediana ainda continua abaixo de 1. Isso mostra que pode esta sendo feito alguma coisa para uma melhora dessas notas, talvez o fato de ter tirado notas baixas tenha feito alunos e/ou professores desse semestre terem procurado algo para melhorar a performance.\n",
    "  \n",
    "  Voltemos para o grafico [As_3_unidades_de_FMC2_com_todos_os_semestres_juntos](#As_3_unidades_de_FMC2_com_todos_os_semestres_juntos) e olhemos a terceira unidade. Vemos que esta igual a segunda unidade com a diferença que a mediana está quase sobre o 0. Agora vamos para o grafico [Terceira_unidade_de_FMC2](#Terceira_unidade_de_FMC2) que possui o historico da 3ª unidade de fmc2. Vemos que nos anos 205 e 2016 50% dos alunos costumavam tirar notas entre 0 e 5, mas novamente no ano de 2017 algo fez mais de 50% ficar com notas igual a 0, sendo todos os outros \"outlines\", no segundo semestre de 2017 ouve uma melhora leve e mais de 50% dos alunos ficaram com notas entre 0 e 0.5 e as notas acima de 0.5 são \"outlines\".\n",
    "  \n",
    "  Tentamos analizar as 3 unidades de FMC2 e está claro que desde o primeiro semestre de 2017 algo está muito errado e precisa ser mudado, pois nos anos anteriores as medias eram baixas entratanto não eram tão concentradas proximo a 0. Essa materia precisa de uma analise mais aprofundada para descobrir o problema que possui, mas obviamente o maior problema apareceu no primeiro demestre de 2017 e se continua até o resente momento o comportamento dos graficos das 3ªs unidades dos 2 semestres passados irão continuar. "
   ]
  },
  {
   "cell_type": "code",
   "execution_count": null,
   "metadata": {},
   "outputs": [],
   "source": []
  },
  {
   "cell_type": "code",
   "execution_count": null,
   "metadata": {},
   "outputs": [],
   "source": []
  },
  {
   "cell_type": "code",
   "execution_count": null,
   "metadata": {},
   "outputs": [],
   "source": []
  }
 ],
 "metadata": {
  "kernelspec": {
   "display_name": "Python 3",
   "language": "python",
   "name": "python3"
  },
  "language_info": {
   "codemirror_mode": {
    "name": "ipython",
    "version": 3
   },
   "file_extension": ".py",
   "mimetype": "text/x-python",
   "name": "python",
   "nbconvert_exporter": "python",
   "pygments_lexer": "ipython3",
   "version": "3.6.3"
  }
 },
 "nbformat": 4,
 "nbformat_minor": 2
}
